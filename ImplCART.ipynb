{
 "cells": [
  {
   "cell_type": "markdown",
   "metadata": {},
   "source": [
    "# Implementation of ***CART***\n",
    "This notebook demonstrates the implementation of the ***CART*** for Parkinson’s Disease detection using three feature processing methods:  \n",
    "1. All Features (`Toutes caractéristiques`).  \n",
    "2. Feature Selection (`La Sélection des caractéristiques`): ***Wrapper***, ***Embedding***, and ***ANOVA***.  \n",
    "3. Dimensionality Reduction (`Réduction des données`) using ***PCA***.  \n",
    "\n",
    "Each method is applied in two ways:  \n",
    "- Using standard libraries.  \n",
    "- Using custom implementations developed from scratch.  "
   ]
  },
  {
   "cell_type": "code",
   "execution_count": 38,
   "metadata": {},
   "outputs": [],
   "source": [
    "import numpy as np\n",
    "import matplotlib.pyplot as plt\n",
    "import pandas as pd\n",
    "from sklearn.preprocessing import StandardScaler\n",
    "import seaborn as sns\n",
    "from sklearn.model_selection import train_test_split, KFold\n",
    "from sklearn.metrics import accuracy_score, confusion_matrix, classification_report, roc_auc_score\n",
    "\n",
    "\n",
    "from sklearn.tree import DecisionTreeClassifier, plot_tree\n",
    "from Models.cart.main import CARTClassifier\n"
   ]
  },
  {
   "cell_type": "markdown",
   "metadata": {},
   "source": [
    "## 1. Data Preprocessing  \n",
    "- **Dataset**: Parkinson's Disease Classification (UCI Machine Learning Repository).  \n",
    "- **Steps**:  \n",
    "  1. Load and explore the dataset.  \n",
    "  2. Standard Scaker for feature scaling.\n",
    "  3. Balance classes using SMOTE.  \n",
    "- Code snippets for preprocessing are shared below.\n"
   ]
  },
  {
   "cell_type": "code",
   "execution_count": 39,
   "metadata": {},
   "outputs": [],
   "source": [
    "\n",
    "# Load the data\n",
    "data = pd.read_csv(\"pd_speech_features.csv\", header=1)\n",
    "\n",
    "\n",
    "# Preprocess numeric columns\n",
    "def safe_convert_numeric(df):\n",
    "    numeric_columns = df.select_dtypes(include=['object']).columns\n",
    "    for col in numeric_columns:\n",
    "        try:\n",
    "            df[col] = pd.to_numeric(df[col], errors='coerce')\n",
    "        except Exception as e:\n",
    "            print(f\"Error converting column {col}: {e}\")\n",
    "    return df\n",
    "\n",
    "data = safe_convert_numeric(data)\n",
    "\n",
    "# Scale the features\n",
    "scaler = StandardScaler()\n",
    "\n",
    "# Identify numeric columns\n",
    "numeric_columns = data.select_dtypes(include=['float64', 'int64']).columns[1:-1]\n",
    "data[numeric_columns] = scaler.fit_transform(data[numeric_columns])\n",
    "\n",
    "# Identify binary/categorical columns and other features\n",
    "binary_features = ['gender']  # Adjust if needed\n",
    "other_features = [col for col in data.columns if col not in binary_features + ['id', 'class']]\n",
    "\n",
    "# Aggregate features with mean and std\n",
    "aggregated_data = data.groupby('id')[other_features].agg(['mean', 'std']).reset_index()\n",
    "\n",
    "# Flatten multi-level column names\n",
    "aggregated_data.columns = ['_'.join(col).strip() if isinstance(col, tuple) else col for col in aggregated_data.columns]\n",
    "\n",
    "# Add binary features back as-is\n",
    "for feature in binary_features:\n",
    "    aggregated_data[feature] = data.groupby('id')[feature].first().values.astype(data[feature].dtype)\n",
    "\n",
    "# Add the target variable\n",
    "aggregated_data['class'] = data.groupby('id')['class'].first().values\n",
    "\n",
    "# Separate features and target\n",
    "X = aggregated_data.drop(['class', 'id_'], axis=1)\n",
    "y = aggregated_data['class']\n",
    "\n",
    "\n",
    "# Split the data\n",
    "X_train, X_test, y_train, y_test = train_test_split(X, y, test_size=0.2, random_state=42, stratify=y)\n"
   ]
  },
  {
   "cell_type": "markdown",
   "metadata": {},
   "source": [
    "## 2.1 Method 1: Using All Features  \n",
    "This section applies the ***CART*** on the dataset using all features without any feature selection.  \n",
    "\n",
    "### Implementation Approaches:  \n",
    "1. **Using Standard Libraries** (e.g., scikit-learn, CatBoost).  \n",
    "2. **Custom Implementation** of ***CART***.  \n",
    "\n",
    "### Evaluation Metrics:  \n",
    "- Accuracy, Precision, Recall, F1-Score, ROC-AUC.\n"
   ]
  },
  {
   "cell_type": "code",
   "execution_count": 40,
   "metadata": {},
   "outputs": [
    {
     "name": "stdout",
     "output_type": "stream",
     "text": [
      "\n",
      "Classification Report:\n",
      "              precision    recall  f1-score   support\n",
      "\n",
      "           0       0.54      0.54      0.54        13\n",
      "           1       0.84      0.84      0.84        38\n",
      "\n",
      "    accuracy                           0.76        51\n",
      "   macro avg       0.69      0.69      0.69        51\n",
      "weighted avg       0.76      0.76      0.76        51\n",
      "\n",
      "\n",
      "ROC AUC Score: 0.6902834008097165\n"
     ]
    },
    {
     "data": {
      "image/png": "[encoded data removed]",
      "text/plain": [
       "<Figure size 800x600 with 2 Axes>"
      ]
     },
     "metadata": {},
     "output_type": "display_data"
    }
   ],
   "source": [
    "\n",
    "# Initialize and train the Decision Tree Classifier from sklearn\n",
    "dt_classifier = DecisionTreeClassifier(\n",
    "    random_state=42, \n",
    "    max_depth=7,  # Limiting the depth to prevent overfitting\n",
    "    criterion='gini',\n",
    "    min_samples_split=2,\n",
    ")\n",
    "dt_classifier.fit(X_train, y_train)\n",
    "\n",
    "# Predictions\n",
    "y_pred = dt_classifier.predict(X_test)\n",
    "\n",
    "\n",
    "# Evaluation Metrics\n",
    "print(\"\\nClassification Report:\")\n",
    "AllFeatures_DT_report = classification_report(y_test, y_pred)\n",
    "AllFeatures_DT_accuracy = accuracy_score(y_test, y_pred)\n",
    "print(AllFeatures_DT_report)\n",
    "\n",
    "# ROC AUC Score\n",
    "roc_auc = roc_auc_score(y_test, y_pred)\n",
    "print(f\"\\nROC AUC Score: {roc_auc}\")\n",
    "\n",
    "# Confusion Matrix\n",
    "cm = confusion_matrix(y_test, y_pred)\n",
    "plt.figure(figsize=(8, 6))\n",
    "sns.heatmap(cm, annot=True, fmt='d', cmap='Blues')\n",
    "plt.title('Confusion Matrix')\n",
    "plt.xlabel('Predicted Label')\n",
    "plt.ylabel('True Label')\n",
    "plt.tight_layout()\n",
    "plt.show()"
   ]
  },
  {
   "cell_type": "code",
   "execution_count": 41,
   "metadata": {},
   "outputs": [
    {
     "name": "stdout",
     "output_type": "stream",
     "text": [
      "\n",
      "Classification Report:\n",
      "              precision    recall  f1-score   support\n",
      "\n",
      "           0       0.55      0.46      0.50        13\n",
      "           1       0.82      0.87      0.85        38\n",
      "\n",
      "    accuracy                           0.76        51\n",
      "   macro avg       0.69      0.66      0.67        51\n",
      "weighted avg       0.75      0.76      0.76        51\n",
      "\n",
      "\n",
      "ROC AUC Score: 0.6649797570850202\n"
     ]
    },
    {
     "data": {
      "image/png": "[encoded data removed]",
      "text/plain": [
       "<Figure size 800x600 with 2 Axes>"
      ]
     },
     "metadata": {},
     "output_type": "display_data"
    }
   ],
   "source": [
    "\n",
    "# Initialize and train the Decision Tree Classifier from scratch\n",
    "cart_classifier = CARTClassifier(max_depth=7)\n",
    "cart_classifier.fit(X_train, y_train)\n",
    "\n",
    "# Predictions\n",
    "y_pred = cart_classifier.predict(X_test)\n",
    "\n",
    "# Evaluation Metrics\n",
    "print(\"\\nClassification Report:\")\n",
    "AllFeatues_cart_report = classification_report(y_test, y_pred)\n",
    "AllFeatues_cart_accuracy = accuracy_score(y_test, y_pred)\n",
    "print(AllFeatues_cart_report)\n",
    "\n",
    "\n",
    "# ROC AUC Score\n",
    "roc_auc = roc_auc_score(y_test, y_pred)\n",
    "print(f\"\\nROC AUC Score: {roc_auc}\")\n",
    "\n",
    "# Confusion Matrix\n",
    "cm = confusion_matrix(y_test, y_pred)\n",
    "plt.figure(figsize=(8, 6))\n",
    "sns.heatmap(cm, annot=True, fmt='d', cmap='Blues')\n",
    "plt.title('Confusion Matrix')\n",
    "plt.xlabel('Predicted Label')\n",
    "plt.ylabel('True Label')\n",
    "plt.tight_layout()\n",
    "plt.show()"
   ]
  },
  {
   "cell_type": "markdown",
   "metadata": {},
   "source": [
    "## 2.2 Method 2: Feature Selection  \n",
    "Features are selected using three techniques: Wrapper, Embedding, and ANOVA. The union of selected features is used for model training.  \n",
    "\n",
    "### Sub-methods:  \n",
    "1. **Wrapper Method**: Backward elimination.  \n",
    "2. **Embedding Method**: Lasso L1\n",
    "3. **ANOVA**: Statistical test for feature importance.  \n",
    "\n",
    "### Evaluation Metrics:  \n",
    "- Accuracy, Precision, Recall, F1-Score, ROC-AUC.\n"
   ]
  },
  {
   "cell_type": "code",
   "execution_count": 42,
   "metadata": {},
   "outputs": [
    {
     "name": "stdout",
     "output_type": "stream",
     "text": [
      "\n",
      "Selected Features: ['tqwt_kurtosisValue_dec_18_mean', 'tqwt_entropy_log_dec_36_std', 'tqwt_stdValue_dec_12_mean', 'tqwt_maxValue_dec_11_mean', 'ddpJitter_mean', 'rapJitter_mean', 'tqwt_maxValue_dec_12_mean', 'locAbsJitter_std', 'ddpJitter_std', 'tqwt_TKEO_mean_dec_21_mean', 'tqwt_medianValue_dec_12_std', 'std_delta_delta_log_energy_mean', 'tqwt_skewnessValue_dec_30_std', 'tqwt_stdValue_dec_11_mean', 'mean_MFCC_2nd_coef_mean', 'locShimmer_mean', 'mean_9th_delta_delta_std', 'ppq5Jitter_std', 'tqwt_minValue_dec_12_mean', 'ppq5Jitter_mean', 'locAbsJitter_mean', 'PPE_mean', 'tqwt_meanValue_dec_25_std', 'std_7th_delta_delta_mean', 'tqwt_minValue_dec_11_mean', 'tqwt_medianValue_dec_31_std', 'mean_MFCC_6th_coef_mean', 'tqwt_medianValue_dec_22_std', 'tqwt_TKEO_std_dec_11_mean', 'rapJitter_std']\n"
     ]
    }
   ],
   "source": [
    "from SelectionType.EFSA.main import FeatureSelector\n",
    "\n",
    "# Initialize the Feature Selector\n",
    "selector = FeatureSelector(X_train, y_train)\n",
    "selected_features = selector.comprehensive_feature_selection(k_features=30) # Perform feature selection based on anova embedding and wrapper methods\n",
    "\n",
    "print(f\"\\nSelected Features: {selected_features}\")"
   ]
  },
  {
   "cell_type": "code",
   "execution_count": 43,
   "metadata": {},
   "outputs": [
    {
     "name": "stdout",
     "output_type": "stream",
     "text": [
      "\n",
      "Classification Report:\n",
      "              precision    recall  f1-score   support\n",
      "\n",
      "           0       0.70      0.54      0.61        13\n",
      "           1       0.85      0.92      0.89        38\n",
      "\n",
      "    accuracy                           0.82        51\n",
      "   macro avg       0.78      0.73      0.75        51\n",
      "weighted avg       0.81      0.82      0.82        51\n",
      "\n",
      "\n",
      "ROC AUC Score: 0.7297570850202428\n"
     ]
    },
    {
     "data": {
      "image/png": "[encoded data removed]",
      "text/plain": [
       "<Figure size 800x600 with 2 Axes>"
      ]
     },
     "metadata": {},
     "output_type": "display_data"
    }
   ],
   "source": [
    "\n",
    "X_train_transformed = X_train[selected_features]\n",
    "X_test_transformed = X_test[selected_features]\n",
    "\n",
    "# train the Sklearn Decision Tree Classifier with the selected features\n",
    "dt_classifier_selection = DecisionTreeClassifier(\n",
    "    random_state=42, \n",
    "    max_depth=7,  # Limiting the depth to prevent overfitting\n",
    "    criterion='gini',\n",
    "    min_samples_split=2,\n",
    ")\n",
    "\n",
    "dt_classifier_selection.fit(X_train_transformed, y_train)\n",
    "\n",
    "# Predictions\n",
    "y_pred = dt_classifier_selection.predict(X_test_transformed)\n",
    "\n",
    "# Evaluation Metrics\n",
    "print(\"\\nClassification Report:\")\n",
    "SelectedFeatures_DT_report = classification_report(y_test, y_pred)\n",
    "SelectedFeatures_DT_accuracy = accuracy_score(y_test, y_pred)\n",
    "print(SelectedFeatures_DT_report)\n",
    "\n",
    "\n",
    "# ROC AUC Score\n",
    "roc_auc = roc_auc_score(y_test, y_pred)\n",
    "print(f\"\\nROC AUC Score: {roc_auc}\")\n",
    "\n",
    "# Confusion Matrix\n",
    "cm = confusion_matrix(y_test, y_pred)\n",
    "plt.figure(figsize=(8, 6))\n",
    "sns.heatmap(cm, annot=True, fmt='d', cmap='Blues')\n",
    "plt.title('Confusion Matrix')\n",
    "plt.xlabel('Predicted Label')\n",
    "plt.ylabel('True Label')\n",
    "plt.tight_layout()\n",
    "plt.show()\n"
   ]
  },
  {
   "cell_type": "code",
   "execution_count": 44,
   "metadata": {},
   "outputs": [
    {
     "name": "stdout",
     "output_type": "stream",
     "text": [
      "\n",
      "Classification Report:\n",
      "              precision    recall  f1-score   support\n",
      "\n",
      "           0       0.67      0.62      0.64        13\n",
      "           1       0.87      0.89      0.88        38\n",
      "\n",
      "    accuracy                           0.82        51\n",
      "   macro avg       0.77      0.76      0.76        51\n",
      "weighted avg       0.82      0.82      0.82        51\n",
      "\n",
      "\n",
      "ROC AUC Score: 0.7550607287449393\n"
     ]
    },
    {
     "data": {
      "image/png": "[encoded data removed]",
      "text/plain": [
       "<Figure size 800x600 with 2 Axes>"
      ]
     },
     "metadata": {},
     "output_type": "display_data"
    }
   ],
   "source": [
    "\n",
    "\n",
    "# train the Cart Classifier with the selected features\n",
    "cart_classifier_selection = CARTClassifier(max_depth=7)\n",
    "cart_classifier_selection.fit(X_train_transformed, y_train)\n",
    "\n",
    "# Predictions\n",
    "y_pred = cart_classifier_selection.predict(X_test_transformed)\n",
    "\n",
    "# Evaluation Metrics\n",
    "print(\"\\nClassification Report:\")\n",
    "SelectedFeatures_cart_report = classification_report(y_test, y_pred)\n",
    "SelectedFeatures_cart_accuracy = accuracy_score(y_test, y_pred)\n",
    "print(SelectedFeatures_cart_report)\n",
    "\n",
    "\n",
    "# ROC AUC Score\n",
    "roc_auc = roc_auc_score(y_test, y_pred)\n",
    "print(f\"\\nROC AUC Score: {roc_auc}\")\n",
    "\n",
    "# Confusion Matrix\n",
    "cm = confusion_matrix(y_test, y_pred)\n",
    "plt.figure(figsize=(8, 6))\n",
    "sns.heatmap(cm, annot=True, fmt='d', cmap='Blues')\n",
    "plt.title('Confusion Matrix')\n",
    "plt.xlabel('Predicted Label')\n",
    "plt.ylabel('True Label')\n",
    "plt.tight_layout()\n",
    "plt.show()\n"
   ]
  },
  {
   "cell_type": "markdown",
   "metadata": {},
   "source": [
    "## 2.3 Method 3: Dimensionality Reduction  \n",
    "Principal Component Analysis (PCA) is used to reduce the dataset's dimensionality before applying the **CART**.   \n",
    "\n",
    "### Evaluation Metrics:  \n",
    "- Accuracy, Precision, Recall, F1-Score, ROC-AUC.\n"
   ]
  },
  {
   "cell_type": "code",
   "execution_count": 45,
   "metadata": {},
   "outputs": [
    {
     "name": "stderr",
     "output_type": "stream",
     "text": [
      "C:\\Users\\bouma\\AppData\\Local\\Temp\\ipykernel_30116\\3515904196.py:46: ComplexWarning: Casting complex values to real discards the imaginary part\n",
      "  X_train_pca = X_train_pca.astype(float)\n",
      "C:\\Users\\bouma\\AppData\\Local\\Temp\\ipykernel_30116\\3515904196.py:47: ComplexWarning: Casting complex values to real discards the imaginary part\n",
      "  X_test_pca = X_test_pca.astype(float)\n"
     ]
    },
    {
     "name": "stdout",
     "output_type": "stream",
     "text": [
      "Fold 1: CART Accuracy = 0.8039, DT Accuracy = 0.7647\n"
     ]
    },
    {
     "name": "stderr",
     "output_type": "stream",
     "text": [
      "C:\\Users\\bouma\\AppData\\Local\\Temp\\ipykernel_30116\\3515904196.py:46: ComplexWarning: Casting complex values to real discards the imaginary part\n",
      "  X_train_pca = X_train_pca.astype(float)\n",
      "C:\\Users\\bouma\\AppData\\Local\\Temp\\ipykernel_30116\\3515904196.py:47: ComplexWarning: Casting complex values to real discards the imaginary part\n",
      "  X_test_pca = X_test_pca.astype(float)\n"
     ]
    },
    {
     "name": "stdout",
     "output_type": "stream",
     "text": [
      "Fold 2: CART Accuracy = 0.8039, DT Accuracy = 0.7843\n"
     ]
    },
    {
     "name": "stderr",
     "output_type": "stream",
     "text": [
      "C:\\Users\\bouma\\AppData\\Local\\Temp\\ipykernel_30116\\3515904196.py:46: ComplexWarning: Casting complex values to real discards the imaginary part\n",
      "  X_train_pca = X_train_pca.astype(float)\n",
      "C:\\Users\\bouma\\AppData\\Local\\Temp\\ipykernel_30116\\3515904196.py:47: ComplexWarning: Casting complex values to real discards the imaginary part\n",
      "  X_test_pca = X_test_pca.astype(float)\n"
     ]
    },
    {
     "name": "stdout",
     "output_type": "stream",
     "text": [
      "Fold 3: CART Accuracy = 0.8000, DT Accuracy = 0.8200\n"
     ]
    },
    {
     "name": "stderr",
     "output_type": "stream",
     "text": [
      "C:\\Users\\bouma\\AppData\\Local\\Temp\\ipykernel_30116\\3515904196.py:46: ComplexWarning: Casting complex values to real discards the imaginary part\n",
      "  X_train_pca = X_train_pca.astype(float)\n",
      "C:\\Users\\bouma\\AppData\\Local\\Temp\\ipykernel_30116\\3515904196.py:47: ComplexWarning: Casting complex values to real discards the imaginary part\n",
      "  X_test_pca = X_test_pca.astype(float)\n"
     ]
    },
    {
     "name": "stdout",
     "output_type": "stream",
     "text": [
      "Fold 4: CART Accuracy = 0.8200, DT Accuracy = 0.8400\n"
     ]
    },
    {
     "name": "stderr",
     "output_type": "stream",
     "text": [
      "C:\\Users\\bouma\\AppData\\Local\\Temp\\ipykernel_30116\\3515904196.py:46: ComplexWarning: Casting complex values to real discards the imaginary part\n",
      "  X_train_pca = X_train_pca.astype(float)\n",
      "C:\\Users\\bouma\\AppData\\Local\\Temp\\ipykernel_30116\\3515904196.py:47: ComplexWarning: Casting complex values to real discards the imaginary part\n",
      "  X_test_pca = X_test_pca.astype(float)\n"
     ]
    },
    {
     "name": "stdout",
     "output_type": "stream",
     "text": [
      "Fold 5: CART Accuracy = 0.7200, DT Accuracy = 0.7400\n",
      "\n",
      "Overall Performance:\n",
      "CART Mean Accuracy: 0.7896\n",
      "DT Mean Accuracy: 0.7898\n"
     ]
    }
   ],
   "source": [
    "from SelectionType.acp import PCAFromScratch\n",
    "\n",
    "# Assuming `aggregated_data` is your processed dataset\n",
    "X = aggregated_data.drop(columns=['class', 'id_']).values\n",
    "y = aggregated_data['class'].values\n",
    "\n",
    "# Feature names for PCA and scaling\n",
    "feature_names = aggregated_data.drop(columns=['class', 'id_']).columns\n",
    "\n",
    "# Initialize PCA\n",
    "pca = PCAFromScratch(n_components=80)  # Adjust number of components as needed\n",
    "\n",
    "# Initialize the custom CARTClassifier\n",
    "cart_model_PCA = CARTClassifier(max_depth=7, min_samples_split=2)\n",
    "\n",
    "DT_model_PCA = DecisionTreeClassifier(\n",
    "    random_state=42, \n",
    "    max_depth=7,  # Limiting the depth to prevent overfitting\n",
    "    criterion='gini',\n",
    "    min_samples_split=2,\n",
    ")\n",
    "\n",
    "# k-Fold Cross-Validation\n",
    "kf = KFold(n_splits=5, shuffle=True, random_state=42)\n",
    "DT_accuracies = []\n",
    "cart_accuracies = []\n",
    "fold = 1\n",
    "\n",
    "\n",
    "for train_index, test_index in kf.split(X):\n",
    "    # Split into training and testing sets\n",
    "    X_train, X_test = X[train_index], X[test_index]\n",
    "    y_train, y_test = y[train_index], y[test_index]\n",
    "\n",
    "    # Standardize the features\n",
    "    scaler = StandardScaler()\n",
    "    X_train_scaled = scaler.fit_transform(X_train)\n",
    "    X_test_scaled = scaler.transform(X_test)\n",
    "\n",
    "    # Apply PCA to the training and test sets\n",
    "    X_train_pca = pca.fit_transform(X_train_scaled)\n",
    "    X_test_pca = pca.transform(X_test_scaled)\n",
    "\n",
    "    \n",
    "    # # cast complex data to float\n",
    "    X_train_pca = X_train_pca.astype(float)\n",
    "    X_test_pca = X_test_pca.astype(float)\n",
    "    \n",
    "\n",
    "    # Train the CARTClassifier on PCA-transformed data\n",
    "    cart_model_PCA.fit(X_train_pca, y_train)\n",
    "    \n",
    "    # Train the Sklearn Decision Tree Classifier on PCA-transformed data\n",
    "    DT_model_PCA.fit(X_train_pca, y_train)\n",
    "\n",
    "    # Predict on the test set\n",
    "    y_pred_cart = cart_model_PCA.predict(X_test_pca)\n",
    "    \n",
    "    # Predict on the test set\n",
    "    y_pred_DT = DT_model_PCA.predict(X_test_pca)\n",
    "\n",
    "    # Evaluate the models\n",
    "    acc_cart = accuracy_score(y_test, y_pred_cart)\n",
    "    acc_DT = accuracy_score(y_test, y_pred_DT)\n",
    "    cart_accuracies.append(acc_cart)\n",
    "    DT_accuracies.append(acc_DT)\n",
    "    print(f\"Fold {fold}: CART Accuracy = {acc_cart:.4f}, DT Accuracy = {acc_DT:.4f}\")\n",
    "    fold += 1\n",
    "\n",
    "\n",
    "# Overall performance\n",
    "print(\"\\nOverall Performance:\")\n",
    "print(f\"CART Mean Accuracy: {np.mean(cart_accuracies):.4f}\")\n",
    "print(f\"DT Mean Accuracy: {np.mean(DT_accuracies):.4f}\")\n"
   ]
  },
  {
   "cell_type": "markdown",
   "metadata": {},
   "source": [
    "## 3. Comparative Analysis  \n",
    "- **Objective**: Compare the performance of the *CART* across:  \n",
    "  1. All Features.  \n",
    "  2. Feature Selection.  \n",
    "  3. PCA.  \n",
    "- **Comparison Metrics**:  \n",
    "  - Performance (Accuracy, Precision, Recall, F1-Score, ROC-AUC).  \n",
    "  - Computational efficiency (Training and Testing Time).  \n",
    "- Present results as tables and visualizations (e.g., bar plots, ROC curves).  \n"
   ]
  },
  {
   "cell_type": "code",
   "execution_count": 47,
   "metadata": {},
   "outputs": [
    {
     "data": {
      "image/png": "[encoded data removed]",
      "text/plain": [
       "<Figure size 1000x600 with 1 Axes>"
      ]
     },
     "metadata": {},
     "output_type": "display_data"
    }
   ],
   "source": [
    "# performace comparison between the two models using all features and selected features and PCA\n",
    "\n",
    "# Create a DataFrame for the results\n",
    "results = pd.DataFrame({\n",
    "    'Model': ['All Features DT', 'All Features CART', 'Selected Features DT', 'Selected Features CART', 'PCA DT', 'PCA CART'],\n",
    "    'Accuracy': [AllFeatures_DT_accuracy, AllFeatues_cart_accuracy, SelectedFeatures_DT_accuracy, SelectedFeatures_cart_accuracy, np.mean(DT_accuracies), np.mean(cart_accuracies)]\n",
    "})\n",
    "\n",
    "# Plot the results\n",
    "plt.figure(figsize=(10, 6))\n",
    "sns.barplot(x='Accuracy', y='Model', data=results, palette='viridis', hue='Model')\n",
    "plt.title('Model Comparison')\n",
    "plt.xlabel('Accuracy')\n",
    "plt.ylabel('Model')\n",
    "plt.tight_layout()\n",
    "plt.show()\n"
   ]
  },
  {
   "cell_type": "code",
   "execution_count": null,
   "metadata": {},
   "outputs": [],
   "source": []
  }
 ],
 "metadata": {
  "kernelspec": {
   "display_name": "venv",
   "language": "python",
   "name": "python3"
  },
  "language_info": {
   "codemirror_mode": {
    "name": "ipython",
    "version": 3
   },
   "file_extension": ".py",
   "mimetype": "text/x-python",
   "name": "python",
   "nbconvert_exporter": "python",
   "pygments_lexer": "ipython3",
   "version": "3.12.2"
  }
 },
 "nbformat": 4,
 "nbformat_minor": 4
}
