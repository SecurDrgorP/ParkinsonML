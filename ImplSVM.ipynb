{
 "cells": [
  {
   "cell_type": "markdown",
   "metadata": {},
   "source": [
    "# Implementation of **SVM**\n",
    "This notebook demonstrates the implementation of the ***SVM*** for Parkinson’s Disease detection using three feature processing methods:  \n",
    "1. All Features (`Toutes caractéristiques`).  \n",
    "2. Feature Selection (`La Sélection des caractéristiques`): ***Wrapper***, ***Embedding***, and ***ANOVA***.  \n",
    "3. Dimensionality Reduction (`Réduction des données`) using ***PCA***.  \n",
    "\n",
    "Each method is applied in two ways:  \n",
    "- Using standard libraries.  \n",
    "- Using custom implementations developed from scratch.  "
   ]
  },
  {
   "cell_type": "code",
   "execution_count": 1,
   "metadata": {},
   "outputs": [],
   "source": [
    "import numpy as np\n",
    "import matplotlib.pyplot as plt\n",
    "import pandas as pd\n",
    "from imblearn.over_sampling import SMOTE\n",
    "from sklearn.preprocessing import StandardScaler\n",
    "import seaborn as sns\n",
    "from sklearn.model_selection import train_test_split, KFold\n",
    "from sklearn.metrics import accuracy_score, confusion_matrix, classification_report, roc_auc_score \n",
    "\n",
    "\n",
    "from sklearn.svm import SVC\n",
    "from Models.svm import SVM\n"
   ]
  },
  {
   "cell_type": "markdown",
   "metadata": {},
   "source": [
    "## 1. Data Preprocessing  \n",
    "- **Dataset**: Parkinson's Disease Classification (UCI Machine Learning Repository).  \n",
    "- **Steps**:  \n",
    "  1. Load and explore the dataset.  \n",
    "  2. Handle missing values.  \n",
    "  3. Normalize features using MinMaxScaler.  \n",
    "  4. Balance classes using SMOTE.  \n",
    "- Code snippets for preprocessing are shared below.\n"
   ]
  },
  {
   "cell_type": "code",
   "execution_count": 2,
   "metadata": {},
   "outputs": [],
   "source": [
    "\n",
    "# Load the data\n",
    "data = pd.read_csv(\"pd_speech_features.csv\", header=1)\n",
    "\n",
    "\n",
    "# Preprocess numeric columns\n",
    "def safe_convert_numeric(df):\n",
    "    numeric_columns = df.select_dtypes(include=['object']).columns\n",
    "    for col in numeric_columns:\n",
    "        try:\n",
    "            df[col] = pd.to_numeric(df[col], errors='coerce')\n",
    "        except Exception as e:\n",
    "            print(f\"Error converting column {col}: {e}\")\n",
    "    return df\n",
    "\n",
    "data = safe_convert_numeric(data)\n",
    "\n",
    "# Scale the features\n",
    "scaler = StandardScaler()\n",
    "\n",
    "# Identify numeric columns\n",
    "numeric_columns = data.select_dtypes(include=['float64', 'int64']).columns[1:-1]\n",
    "data[numeric_columns] = scaler.fit_transform(data[numeric_columns])\n",
    "\n",
    "# Identify binary/categorical columns and other features\n",
    "binary_features = ['gender']  # Adjust if needed\n",
    "other_features = [col for col in data.columns if col not in binary_features + ['id', 'class']]\n",
    "\n",
    "# Aggregate features with mean and std\n",
    "aggregated_data = data.groupby('id')[other_features].agg(['mean', 'std']).reset_index()\n",
    "\n",
    "# Flatten multi-level column names\n",
    "aggregated_data.columns = ['_'.join(col).strip() if isinstance(col, tuple) else col for col in aggregated_data.columns]\n",
    "\n",
    "# Add binary features back as-is\n",
    "for feature in binary_features:\n",
    "    aggregated_data[feature] = data.groupby('id')[feature].first().values.astype(data[feature].dtype)\n",
    "\n",
    "# Add the target variable\n",
    "aggregated_data['class'] = data.groupby('id')['class'].first().values\n",
    "\n",
    "# Separate features and target\n",
    "X = aggregated_data.drop(['class', 'id_'], axis=1)\n",
    "y = aggregated_data['class']\n",
    "\n",
    "\n",
    "# Split the data\n",
    "X_train, X_test, y_train, y_test = train_test_split(X, y, test_size=0.2, random_state=42, stratify=y)\n"
   ]
  },
  {
   "cell_type": "markdown",
   "metadata": {},
   "source": [
    "## 2.1 Method 1: Using All Features  \n",
    "This section applies the ***SVM*** on the dataset using all features without any feature selection.  \n",
    "\n",
    "### Implementation Approaches:  \n",
    "1. **Using Standard Libraries** (e.g., scikit-learn, CatBoost).  \n",
    "2. **Custom Implementation** of **SVM**.  \n",
    "\n",
    "### Evaluation Metrics:  \n",
    "- Accuracy, Precision, Recall, F1-Score, ROC-AUC.\n"
   ]
  },
  {
   "cell_type": "code",
   "execution_count": 3,
   "metadata": {},
   "outputs": [
    {
     "name": "stdout",
     "output_type": "stream",
     "text": [
      "\n",
      "Classification Report:\n",
      "              precision    recall  f1-score   support\n",
      "\n",
      "           0       0.60      0.23      0.33        13\n",
      "           1       0.78      0.95      0.86        38\n",
      "\n",
      "    accuracy                           0.76        51\n",
      "   macro avg       0.69      0.59      0.60        51\n",
      "weighted avg       0.74      0.76      0.72        51\n",
      "\n",
      "\n",
      "ROC AUC Score: 0.7773279352226721\n"
     ]
    },
    {
     "data": {
      "image/png": "[encoded data removed]",
      "text/plain": [
       "<Figure size 800x600 with 2 Axes>"
      ]
     },
     "metadata": {},
     "output_type": "display_data"
    }
   ],
   "source": [
    "\n",
    "# Initialize and train the Support Vector Classifier (SVC)\n",
    "svc_classifier = SVC(\n",
    "    random_state=42, \n",
    "    probability=True  # Enables probability estimates for ROC AUC score\n",
    ")\n",
    "svc_classifier.fit(X_train, y_train)\n",
    "\n",
    "# Predictions\n",
    "y_pred = svc_classifier.predict(X_test)\n",
    "\n",
    "# Evaluation Metrics\n",
    "print(\"\\nClassification Report:\")\n",
    "AllFeatures_SVC_report = classification_report(y_test, y_pred)\n",
    "AllFeatures_SVC_acuracy = accuracy_score(y_test, y_pred)\n",
    "print(AllFeatures_SVC_report)\n",
    "\n",
    "# ROC AUC Score\n",
    "if len(set(y_test)) == 2:  # Check if binary classification for ROC AUC\n",
    "    y_prob = svc_classifier.predict_proba(X_test)[:, 1]  # Use probabilities for ROC AUC calculation\n",
    "    roc_auc = roc_auc_score(y_test, y_prob)\n",
    "    print(f\"\\nROC AUC Score: {roc_auc}\")\n",
    "else:\n",
    "    print(\"\\nROC AUC Score: Not applicable for multi-class classification\")\n",
    "\n",
    "# Confusion Matrix\n",
    "cm = confusion_matrix(y_test, y_pred)\n",
    "plt.figure(figsize=(8, 6))\n",
    "sns.heatmap(cm, annot=True, fmt='d', cmap='Blues')\n",
    "plt.title('Confusion Matrix')\n",
    "plt.xlabel('Predicted Label')\n",
    "plt.ylabel('True Label')\n",
    "plt.tight_layout()\n",
    "plt.show()\n"
   ]
  },
  {
   "cell_type": "code",
   "execution_count": 4,
   "metadata": {},
   "outputs": [
    {
     "name": "stdout",
     "output_type": "stream",
     "text": [
      "\n",
      "Classification Report:\n",
      "              precision    recall  f1-score   support\n",
      "\n",
      "           0       0.54      0.54      0.54        13\n",
      "           1       0.84      0.84      0.84        38\n",
      "\n",
      "    accuracy                           0.76        51\n",
      "   macro avg       0.69      0.69      0.69        51\n",
      "weighted avg       0.76      0.76      0.76        51\n",
      "\n",
      "\n",
      "ROC AUC Score: 0.7773279352226721\n"
     ]
    },
    {
     "data": {
      "image/png": "[encoded data removed]",
      "text/plain": [
       "<Figure size 800x600 with 2 Axes>"
      ]
     },
     "metadata": {},
     "output_type": "display_data"
    }
   ],
   "source": [
    "# train using the custom SVM model \n",
    "svm = SVM(\n",
    "    learning_rate=0.01,\n",
    "    n_iters=1000,\n",
    ")\n",
    "\n",
    "# train the model\n",
    "svm.fit(X_train, y_train)\n",
    "\n",
    "# predict the test set\n",
    "y_pred = svm.predict(X_test)\n",
    "\n",
    "# Evaluation Metrics\n",
    "print(\"\\nClassification Report:\")\n",
    "AllFeatures_SVM_report = classification_report(y_test, y_pred)\n",
    "AllFeatures_SVM_acuracy = accuracy_score(y_test, y_pred)\n",
    "print(AllFeatures_SVM_report)\n",
    "\n",
    "# ROC AUC Score\n",
    "if len(set(y_test)) == 2:  # Check if binary classification for ROC AUC\n",
    "    y_prob = svm.predict_proba(X_test)  # Use probabilities for ROC AUC calculation\n",
    "    print(f\"\\nROC AUC Score: {roc_auc}\")\n",
    "    \n",
    "else:\n",
    "    print(\"\\nROC AUC Score: Not applicable for multi-class classification\")\n",
    "    \n",
    "# Confusion Matrix\n",
    "cm = confusion_matrix(y_test, y_pred)\n",
    "plt.figure(figsize=(8, 6))\n",
    "sns.heatmap(cm, annot=True, fmt='d', cmap='Blues')\n",
    "plt.title('Confusion Matrix')\n",
    "plt.xlabel('Predicted Label')\n",
    "plt.ylabel('True Label')\n",
    "plt.tight_layout()\n",
    "plt.show()\n"
   ]
  },
  {
   "cell_type": "markdown",
   "metadata": {},
   "source": [
    "## 2.2 Method 2: Feature Selection  \n",
    "Features are selected using three techniques: Wrapper, Embedding, and ANOVA. The union of selected features is used for model training.  \n",
    "\n",
    "### Sub-methods:  \n",
    "1. **Wrapper Method**: Backward elimination.  \n",
    "2. **Embedding Method**: LassoCV.  \n",
    "3. **ANOVA**: Statistical test for feature importance.  \n",
    "\n",
    "### Evaluation Metrics:  \n",
    "- Accuracy, Precision, Recall, F1-Score, ROC-AUC.\n"
   ]
  },
  {
   "cell_type": "code",
   "execution_count": 5,
   "metadata": {},
   "outputs": [
    {
     "name": "stdout",
     "output_type": "stream",
     "text": [
      "\n",
      "Selected Features: ['tqwt_entropy_log_dec_36_std', 'det_LT_entropy_log_4_coef_std', 'tqwt_medianValue_dec_22_std', 'tqwt_skewnessValue_dec_17_std', 'tqwt_entropy_shannon_dec_11_mean', 'tqwt_medianValue_dec_12_std', 'det_LT_entropy_log_8_coef_mean', 'tqwt_entropy_log_dec_12_mean', 'tqwt_stdValue_dec_12_mean', 'tqwt_kurtosisValue_dec_34_mean', 'mean_2nd_delta_mean', 'mean_MFCC_6th_coef_mean', 'tqwt_skewnessValue_dec_30_std', 'tqwt_kurtosisValue_dec_36_mean', 'tqwt_maxValue_dec_11_mean', 'std_delta_delta_log_energy_mean', 'mean_9th_delta_delta_std', 'tqwt_skewnessValue_dec_35_mean', 'det_LT_entropy_shannon_8_coef_mean', 'det_LT_entropy_log_2_coef_mean', 'tqwt_minValue_dec_11_mean', 'IMF_SNR_entropy_mean', 'det_LT_entropy_log_1_coef_mean', 'mean_10th_delta_std', 'tqwt_minValue_dec_10_mean', 'tqwt_kurtosisValue_dec_27_mean', 'std_7th_delta_delta_mean', 'det_LT_entropy_log_6_coef_std', 'std_10th_delta_delta_std', 'tqwt_medianValue_dec_1_std', 'det_LT_entropy_log_6_coef_mean', 'det_LT_entropy_log_5_coef_std', 'det_LT_entropy_log_7_coef_mean', 'std_6th_delta_delta_mean', 'tqwt_medianValue_dec_31_std', 'f3_std', 'det_LT_entropy_log_3_coef_std', 'std_8th_delta_delta_mean', 'tqwt_entropy_log_dec_35_std', 'tqwt_TKEO_std_dec_11_mean', 'tqwt_TKEO_mean_dec_21_mean', 'std_MFCC_3rd_coef_std', 'tqwt_kurtosisValue_dec_18_mean', 'tqwt_minValue_dec_12_mean', 'det_LT_entropy_log_1_coef_std', 'tqwt_maxValue_dec_13_mean', 'det_LT_entropy_shannon_7_coef_std', 'det_LT_entropy_log_5_coef_mean', 'det_LT_entropy_shannon_9_coef_std', 'det_LT_entropy_shannon_10_coef_std', 'det_LT_entropy_shannon_10_coef_mean', 'det_LT_entropy_log_7_coef_std', 'tqwt_stdValue_dec_11_mean', 'det_LT_entropy_log_2_coef_std', 'det_LT_entropy_shannon_9_coef_mean', 'tqwt_stdValue_dec_19_std', 'tqwt_kurtosisValue_dec_26_mean', 'tqwt_maxValue_dec_12_mean', 'gender', 'tqwt_minValue_dec_13_mean', 'mean_MFCC_2nd_coef_mean', 'det_LT_entropy_log_3_coef_mean', 'det_LT_entropy_log_4_coef_mean', 'det_LT_entropy_shannon_8_coef_std', 'tqwt_meanValue_dec_25_std']\n"
     ]
    }
   ],
   "source": [
    "from SelectionType.EFSA.main import FeatureSelector\n",
    "\n",
    "# Initialize the Feature Selector\n",
    "selector = FeatureSelector(X_train, y_train)\n",
    "\n",
    "selected_features = selector.comprehensive_feature_selection(k_features=70) # Perform feature selection based on anova embedding and wrapper methods\n",
    "\n",
    "\n",
    "print(f\"\\nSelected Features: {selected_features}\")"
   ]
  },
  {
   "cell_type": "code",
   "execution_count": 6,
   "metadata": {},
   "outputs": [
    {
     "name": "stdout",
     "output_type": "stream",
     "text": [
      "\n",
      "Classification Report:\n",
      "              precision    recall  f1-score   support\n",
      "\n",
      "           0       0.54      0.54      0.54        13\n",
      "           1       0.84      0.84      0.84        38\n",
      "\n",
      "    accuracy                           0.76        51\n",
      "   macro avg       0.69      0.69      0.69        51\n",
      "weighted avg       0.76      0.76      0.76        51\n",
      "\n",
      "\n",
      "ROC AUC Score: 0.7408906882591093\n"
     ]
    },
    {
     "data": {
      "image/png": "[encoded data removed]",
      "text/plain": [
       "<Figure size 800x600 with 2 Axes>"
      ]
     },
     "metadata": {},
     "output_type": "display_data"
    }
   ],
   "source": [
    "# train the SVC model using the selected features\n",
    "\n",
    "svc_classifier = SVC(\n",
    "    random_state=42, \n",
    "    probability=True  # Enables probability estimates for ROC AUC score\n",
    ")\n",
    "\n",
    "svc_classifier.fit(X_train[selected_features], y_train)\n",
    "\n",
    "# Predictions\n",
    "y_pred = svc_classifier.predict(X_test[selected_features])\n",
    "\n",
    "# Evaluation Metrics\n",
    "print(\"\\nClassification Report:\")\n",
    "SelectedFeatures_SVC_report = classification_report(y_test, y_pred)\n",
    "SelectedFeatures_SVC_acuracy = accuracy_score(y_test, y_pred)\n",
    "print(SelectedFeatures_SVC_report)\n",
    "\n",
    "\n",
    "# ROC AUC Score\n",
    "if len(set(y_test)) == 2:  # Check if binary classification for ROC AUC\n",
    "    y_prob = svc_classifier.predict_proba(X_test[selected_features])[:, 1]  # Use probabilities for ROC AUC calculation\n",
    "    roc_auc = roc_auc_score(y_test, y_prob)\n",
    "    print(f\"\\nROC AUC Score: {roc_auc}\")\n",
    "    \n",
    "else:\n",
    "    print(\"\\nROC AUC Score: Not applicable for multi-class classification\")\n",
    "\n",
    "# Confusion Matrix\n",
    "cm = confusion_matrix(y_test, y_pred)\n",
    "plt.figure(figsize=(8, 6))\n",
    "sns.heatmap(cm, annot=True, fmt='d', cmap='Blues')\n",
    "plt.title('Confusion Matrix')\n",
    "plt.xlabel('Predicted Label')\n",
    "plt.ylabel('True Label')\n",
    "plt.tight_layout()\n",
    "plt.show()\n"
   ]
  },
  {
   "cell_type": "code",
   "execution_count": 7,
   "metadata": {},
   "outputs": [
    {
     "name": "stdout",
     "output_type": "stream",
     "text": [
      "\n",
      "Classification Report:\n",
      "              precision    recall  f1-score   support\n",
      "\n",
      "           0       0.41      0.54      0.47        13\n",
      "           1       0.82      0.74      0.78        38\n",
      "\n",
      "    accuracy                           0.69        51\n",
      "   macro avg       0.62      0.64      0.62        51\n",
      "weighted avg       0.72      0.69      0.70        51\n",
      "\n"
     ]
    }
   ],
   "source": [
    "#trains the SVM model using the selected features\n",
    "svm = SVM(\n",
    "    learning_rate=0.01,\n",
    "    n_iters=1000,\n",
    ")\n",
    "\n",
    "# train the model\n",
    "svm.fit(X_train[selected_features], y_train)\n",
    "\n",
    "# predict the test set\n",
    "y_pred_svm_selected = svm.predict(X_test[selected_features])\n",
    "\n",
    "# Evaluation Metrics\n",
    "print(\"\\nClassification Report:\")\n",
    "SelectedFeatures_SVM_report = classification_report(y_test, y_pred_svm_selected)\n",
    "SelectedFeatures_SVM_acuracy = accuracy_score(y_test, y_pred_svm_selected)\n",
    "print(SelectedFeatures_SVM_report)\n"
   ]
  },
  {
   "cell_type": "markdown",
   "metadata": {},
   "source": [
    "## 2.3 Method 3: Dimensionality Reduction  \n",
    "Principal Component Analysis (PCA) is used to reduce the dataset's dimensionality before applying the **SVM**.   \n",
    "\n",
    "### Evaluation Metrics:  \n",
    "- Accuracy, Precision, Recall, F1-Score, ROC-AUC.\n"
   ]
  },
  {
   "cell_type": "code",
   "execution_count": 11,
   "metadata": {},
   "outputs": [
    {
     "name": "stdout",
     "output_type": "stream",
     "text": [
      "Support Vector Classifier with PCA:\n",
      "Accuracy: 0.7843137254901961\n",
      "Confusion Matrix:\n",
      "[[ 4  9]\n",
      " [ 2 36]]\n",
      "Classification Report:\n",
      "              precision    recall  f1-score   support\n",
      "\n",
      "           0       0.67      0.31      0.42        13\n",
      "           1       0.80      0.95      0.87        38\n",
      "\n",
      "    accuracy                           0.78        51\n",
      "   macro avg       0.73      0.63      0.64        51\n",
      "weighted avg       0.77      0.78      0.75        51\n",
      "\n"
     ]
    },
    {
     "name": "stderr",
     "output_type": "stream",
     "text": [
      "C:\\Users\\bouma\\AppData\\Local\\Temp\\ipykernel_36664\\638924371.py:29: ComplexWarning: Casting complex values to real discards the imaginary part\n",
      "  X_train_pca = X_train_pca.astype(float)\n",
      "C:\\Users\\bouma\\AppData\\Local\\Temp\\ipykernel_36664\\638924371.py:30: ComplexWarning: Casting complex values to real discards the imaginary part\n",
      "  X_test_pca = X_test_pca.astype(float)\n"
     ]
    }
   ],
   "source": [
    "from sklearn.svm import SVC\n",
    "from sklearn.model_selection import train_test_split\n",
    "from sklearn.preprocessing import StandardScaler\n",
    "from imblearn.over_sampling import SMOTE\n",
    "from SelectionType.acp import PCAFromScratch\n",
    "from sklearn.metrics import accuracy_score, roc_auc_score, confusion_matrix, classification_report\n",
    "\n",
    "# Splitting the data into train and test sets to prevent overfitting\n",
    "X_train, X_test, y_train, y_test = train_test_split(\n",
    "    X, y, \n",
    "    test_size=0.2, \n",
    "    random_state=42, \n",
    "    stratify=y\n",
    ")\n",
    "\n",
    "pca = PCAFromScratch(n_components=80)  # Adjust number of components as needed\n",
    "\n",
    "\n",
    "# Standardize the features\n",
    "scaler = StandardScaler()\n",
    "X_train_scaled = scaler.fit_transform(X_train)\n",
    "X_test_scaled = scaler.transform(X_test)\n",
    "\n",
    "# Apply PCA to the scaled dataset\n",
    "X_train_pca = pca.fit_transform(X_train_scaled)\n",
    "X_test_pca = pca.transform(X_test_scaled)\n",
    "\n",
    "# Ensure data is float type\n",
    "X_train_pca = X_train_pca.astype(float)\n",
    "X_test_pca = X_test_pca.astype(float)\n",
    "\n",
    "# Initialize Support Vector Classifier with kernel and regularization\n",
    "svc_pca = SVC(\n",
    "    kernel='rbf',  # Radial Basis Function kernel\n",
    "    random_state=42,\n",
    "    probability=True  # Enable probability estimates\n",
    ")\n",
    "\n",
    "# Train the SVC on PCA-transformed data\n",
    "svc_pca.fit(X_train_pca, y_train)\n",
    "\n",
    "# Predict on the test set\n",
    "y_pred_svc_pca = svc_pca.predict(X_test_pca)\n",
    "\n",
    "# Evaluation Metrics\n",
    "pca_svc_accuracy = accuracy_score(y_test, y_pred_svc_pca)\n",
    "pca_svc_report = classification_report(y_test, y_pred_svc_pca)\n",
    "\n",
    "print(\"Support Vector Classifier with PCA:\")\n",
    "print(f\"Accuracy: {accuracy_score(y_test, y_pred_svc_pca)}\")\n",
    "print(f\"Confusion Matrix:\\n{confusion_matrix(y_test, y_pred_svc_pca)}\")\n",
    "print(f\"Classification Report:\\n{classification_report(y_test, y_pred_svc_pca)}\")"
   ]
  },
  {
   "cell_type": "code",
   "execution_count": 12,
   "metadata": {},
   "outputs": [
    {
     "name": "stdout",
     "output_type": "stream",
     "text": [
      "\n",
      "Classification Report:\n",
      "              precision    recall  f1-score   support\n",
      "\n",
      "           0       0.44      0.62      0.52        13\n",
      "           1       0.85      0.74      0.79        38\n",
      "\n",
      "    accuracy                           0.71        51\n",
      "   macro avg       0.65      0.68      0.65        51\n",
      "weighted avg       0.75      0.71      0.72        51\n",
      "\n"
     ]
    }
   ],
   "source": [
    "# tran using the svm model\n",
    "svm = SVM(\n",
    "    learning_rate=0.01,\n",
    "    n_iters=1000,\n",
    ")\n",
    "\n",
    "# train the model\n",
    "svm.fit(X_train_pca, y_train)\n",
    "\n",
    "# predict the test set\n",
    "y_pred_svm_pca = svm.predict(X_test_pca)\n",
    "\n",
    "# Evaluation Metrics\n",
    "print(\"\\nClassification Report:\")\n",
    "pca_svm_report = classification_report(y_test, y_pred_svm_pca)\n",
    "pca_svm_accuracy = accuracy_score(y_test, y_pred_svm_pca)\n",
    "print(pca_svm_report)\n",
    "\n",
    "\n"
   ]
  },
  {
   "cell_type": "markdown",
   "metadata": {},
   "source": [
    "## 3. Comparative Analysis  \n",
    "- **Objective**: Compare the performance of the **SVM** across:  \n",
    "  1. All Features.  \n",
    "  2. Feature Selection.  \n",
    "  3. PCA.  \n",
    "- **Comparison Metrics**:  \n",
    "  - Performance (Accuracy, Precision, Recall, F1-Score, ROC-AUC).  \n",
    "  - Computational efficiency (Training and Testing Time).  \n",
    "- Present results as tables and visualizations (e.g., bar plots, ROC curves).  \n"
   ]
  },
  {
   "cell_type": "code",
   "execution_count": 18,
   "metadata": {},
   "outputs": [
    {
     "data": {
      "image/png": "[encoded data removed]",
      "text/plain": [
       "<Figure size 1000x600 with 1 Axes>"
      ]
     },
     "metadata": {},
     "output_type": "display_data"
    }
   ],
   "source": [
    "# performace comparison between the two models using all features and selected features and PCA\n",
    "\n",
    "# Create a DataFrame for the results\n",
    "results = pd.DataFrame({\n",
    "    'Model': ['SVC', 'SVM', 'SVC (Selected Features)', 'SVM (Selected Features)', 'SVC (PCA)', 'SVM (PCA)'],\n",
    "    'Accuracy': [AllFeatures_SVC_acuracy, AllFeatures_SVM_acuracy, SelectedFeatures_SVC_acuracy, SelectedFeatures_SVM_acuracy, pca_svc_accuracy, pca_svm_accuracy],\n",
    "    'Classification Report': [AllFeatures_SVC_report, AllFeatures_SVM_report, SelectedFeatures_SVC_report, SelectedFeatures_SVM_report, pca_svc_report, pca_svm_report]\n",
    "})\n",
    "\n",
    "\n",
    "# plot the results\n",
    "plt.figure(figsize=(10, 6))\n",
    "sns.barplot(x='Accuracy', y='Model', data=results, palette='viridis', hue='Model')\n",
    "plt.title('Model Comparison')\n",
    "plt.xlabel('Accuracy')\n",
    "plt.ylabel('Model')\n",
    "plt.tight_layout()\n",
    "plt.show()"
   ]
  }
 ],
 "metadata": {
  "kernelspec": {
   "display_name": "venv",
   "language": "python",
   "name": "python3"
  },
  "language_info": {
   "codemirror_mode": {
    "name": "ipython",
    "version": 3
   },
   "file_extension": ".py",
   "mimetype": "text/x-python",
   "name": "python",
   "nbconvert_exporter": "python",
   "pygments_lexer": "ipython3",
   "version": "3.12.2"
  }
 },
 "nbformat": 4,
 "nbformat_minor": 4
}
