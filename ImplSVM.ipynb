{
 "cells": [
  {
   "cell_type": "markdown",
   "metadata": {},
   "source": [
    "# Implementation of **SVM**\n",
    "This notebook demonstrates the implementation of the ***SVM*** for Parkinson’s Disease detection using three feature processing methods:  \n",
    "1. All Features (`Toutes caractéristiques`).  \n",
    "2. Feature Selection (`La Sélection des caractéristiques`): ***Wrapper***, ***Embedding***, and ***ANOVA***.  \n",
    "3. Dimensionality Reduction (`Réduction des données`) using ***PCA***.  \n",
    "\n",
    "Each method is applied in two ways:  \n",
    "- Using standard libraries.  \n",
    "- Using custom implementations developed from scratch.  "
   ]
  },
  {
   "cell_type": "code",
   "execution_count": 9,
   "metadata": {},
   "outputs": [],
   "source": [
    "import numpy as np\n",
    "import matplotlib.pyplot as plt\n",
    "import pandas as pd\n",
    "from imblearn.over_sampling import SMOTE\n",
    "from sklearn.preprocessing import StandardScaler\n",
    "import seaborn as sns\n",
    "from sklearn.model_selection import train_test_split, KFold\n",
    "from sklearn.metrics import confusion_matrix\n",
    "from sklearn.metrics import accuracy_score\n",
    "from sklearn.metrics import classification_report, roc_auc_score\n",
    "import os \n",
    "\n",
    "\n",
    "from sklearn.svm import SVC\n",
    "from Models.svm import SVM\n"
   ]
  },
  {
   "cell_type": "markdown",
   "metadata": {},
   "source": [
    "## 1. Data Preprocessing  \n",
    "- **Dataset**: Parkinson's Disease Classification (UCI Machine Learning Repository).  \n",
    "- **Steps**:  \n",
    "  1. Load and explore the dataset.  \n",
    "  2. Handle missing values.  \n",
    "  3. Normalize features using MinMaxScaler.  \n",
    "  4. Balance classes using SMOTE.  \n",
    "- Code snippets for preprocessing are shared below.\n"
   ]
  },
  {
   "cell_type": "code",
   "execution_count": 10,
   "metadata": {},
   "outputs": [
    {
     "name": "stdout",
     "output_type": "stream",
     "text": [
      "Original class distribution:\n",
      "[ 51 150]\n",
      "\n",
      "Resampled class distribution:\n",
      "[150 150]\n"
     ]
    }
   ],
   "source": [
    "\n",
    "# Load the data\n",
    "data = pd.read_csv(\"pd_speech_features.csv\", header=1)\n",
    "\n",
    "\n",
    "# Preprocess numeric columns\n",
    "def safe_convert_numeric(df):\n",
    "    numeric_columns = df.select_dtypes(include=['object']).columns\n",
    "    for col in numeric_columns:\n",
    "        try:\n",
    "            df[col] = pd.to_numeric(df[col], errors='coerce')\n",
    "        except Exception as e:\n",
    "            print(f\"Error converting column {col}: {e}\")\n",
    "    return df\n",
    "\n",
    "data = safe_convert_numeric(data)\n",
    "\n",
    "# Scale the features\n",
    "scaler = StandardScaler()\n",
    "\n",
    "# Identify numeric columns\n",
    "numeric_columns = data.select_dtypes(include=['float64', 'int64']).columns[1:-1]\n",
    "data[numeric_columns] = scaler.fit_transform(data[numeric_columns])\n",
    "\n",
    "# Identify binary/categorical columns and other features\n",
    "binary_features = ['gender']  # Adjust if needed\n",
    "other_features = [col for col in data.columns if col not in binary_features + ['id', 'class']]\n",
    "\n",
    "# Aggregate features with mean and std\n",
    "aggregated_data = data.groupby('id')[other_features].agg(['mean', 'std']).reset_index()\n",
    "\n",
    "# Flatten multi-level column names\n",
    "aggregated_data.columns = ['_'.join(col).strip() if isinstance(col, tuple) else col for col in aggregated_data.columns]\n",
    "\n",
    "# Add binary features back as-is\n",
    "for feature in binary_features:\n",
    "    aggregated_data[feature] = data.groupby('id')[feature].first().values.astype(data[feature].dtype)\n",
    "\n",
    "# Add the target variable\n",
    "aggregated_data['class'] = data.groupby('id')['class'].first().values\n",
    "\n",
    "# Separate features and target\n",
    "X = aggregated_data.drop(['class', 'id_'], axis=1)\n",
    "y = aggregated_data['class']\n",
    "\n",
    "\n",
    "# Split the data\n",
    "X_train, X_test, y_train, y_test = train_test_split(X, y, test_size=0.2, random_state=42, stratify=y)\n",
    "\n",
    "# Apply SMOTE\n",
    "smote = SMOTE(random_state=42)\n",
    "X_train_resampled, y_train_resampled = smote.fit_resample(X_train, y_train)\n",
    "\n",
    "# Print class distribution before and after SMOTE\n",
    "print(\"Original class distribution:\")\n",
    "print(np.bincount(y_train))\n",
    "print(\"\\nResampled class distribution:\")\n",
    "print(np.bincount(y_train_resampled))\n"
   ]
  },
  {
   "cell_type": "markdown",
   "metadata": {},
   "source": [
    "## 2.1 Method 1: Using All Features  \n",
    "This section applies the ***SVM*** on the dataset using all features without any feature selection.  \n",
    "\n",
    "### Implementation Approaches:  \n",
    "1. **Using Standard Libraries** (e.g., scikit-learn, CatBoost).  \n",
    "2. **Custom Implementation** of **SVM**.  \n",
    "\n",
    "### Evaluation Metrics:  \n",
    "- Accuracy, Precision, Recall, F1-Score, ROC-AUC.\n"
   ]
  },
  {
   "cell_type": "code",
   "execution_count": 11,
   "metadata": {},
   "outputs": [
    {
     "name": "stdout",
     "output_type": "stream",
     "text": [
      "\n",
      "Classification Report:\n",
      "              precision    recall  f1-score   support\n",
      "\n",
      "           0       0.45      0.38      0.42        13\n",
      "           1       0.80      0.84      0.82        38\n",
      "\n",
      "    accuracy                           0.73        51\n",
      "   macro avg       0.63      0.61      0.62        51\n",
      "weighted avg       0.71      0.73      0.72        51\n",
      "\n",
      "\n",
      "ROC AUC Score: 0.7408906882591093\n"
     ]
    },
    {
     "data": {
      "image/png": "[encoded data removed]",
      "text/plain": [
       "<Figure size 800x600 with 2 Axes>"
      ]
     },
     "metadata": {},
     "output_type": "display_data"
    }
   ],
   "source": [
    "\n",
    "# Initialize and train the Support Vector Classifier (SVC)\n",
    "svc_classifier = SVC(\n",
    "    random_state=42, \n",
    "    probability=True  # Enables probability estimates for ROC AUC score\n",
    ")\n",
    "svc_classifier.fit(X_train_resampled, y_train_resampled)\n",
    "\n",
    "# Predictions\n",
    "y_pred = svc_classifier.predict(X_test)\n",
    "\n",
    "# Evaluation Metrics\n",
    "print(\"\\nClassification Report:\")\n",
    "AllFeatures_SVC_report = classification_report(y_test, y_pred)\n",
    "print(AllFeatures_SVC_report)\n",
    "\n",
    "# ROC AUC Score\n",
    "if len(set(y_test)) == 2:  # Check if binary classification for ROC AUC\n",
    "    y_prob = svc_classifier.predict_proba(X_test)[:, 1]  # Use probabilities for ROC AUC calculation\n",
    "    roc_auc = roc_auc_score(y_test, y_prob)\n",
    "    print(f\"\\nROC AUC Score: {roc_auc}\")\n",
    "else:\n",
    "    print(\"\\nROC AUC Score: Not applicable for multi-class classification\")\n",
    "\n",
    "# Confusion Matrix\n",
    "cm = confusion_matrix(y_test, y_pred)\n",
    "plt.figure(figsize=(8, 6))\n",
    "sns.heatmap(cm, annot=True, fmt='d', cmap='Blues')\n",
    "plt.title('Confusion Matrix')\n",
    "plt.xlabel('Predicted Label')\n",
    "plt.ylabel('True Label')\n",
    "plt.tight_layout()\n",
    "plt.show()\n"
   ]
  },
  {
   "cell_type": "code",
   "execution_count": 12,
   "metadata": {},
   "outputs": [
    {
     "ename": "KeyError",
     "evalue": "0",
     "output_type": "error",
     "traceback": [
      "\u001b[1;31m---------------------------------------------------------------------------\u001b[0m",
      "\u001b[1;31mKeyError\u001b[0m                                  Traceback (most recent call last)",
      "File \u001b[1;32mc:\\Users\\bouma\\Documents\\Master\\S1\\ML\\ParkinsonML\\venv\\Lib\\site-packages\\pandas\\core\\indexes\\base.py:3805\u001b[0m, in \u001b[0;36mIndex.get_loc\u001b[1;34m(self, key)\u001b[0m\n\u001b[0;32m   3804\u001b[0m \u001b[38;5;28;01mtry\u001b[39;00m:\n\u001b[1;32m-> 3805\u001b[0m     \u001b[38;5;28;01mreturn\u001b[39;00m \u001b[38;5;28;43mself\u001b[39;49m\u001b[38;5;241;43m.\u001b[39;49m\u001b[43m_engine\u001b[49m\u001b[38;5;241;43m.\u001b[39;49m\u001b[43mget_loc\u001b[49m\u001b[43m(\u001b[49m\u001b[43mcasted_key\u001b[49m\u001b[43m)\u001b[49m\n\u001b[0;32m   3806\u001b[0m \u001b[38;5;28;01mexcept\u001b[39;00m \u001b[38;5;167;01mKeyError\u001b[39;00m \u001b[38;5;28;01mas\u001b[39;00m err:\n",
      "File \u001b[1;32mindex.pyx:167\u001b[0m, in \u001b[0;36mpandas._libs.index.IndexEngine.get_loc\u001b[1;34m()\u001b[0m\n",
      "File \u001b[1;32mindex.pyx:196\u001b[0m, in \u001b[0;36mpandas._libs.index.IndexEngine.get_loc\u001b[1;34m()\u001b[0m\n",
      "File \u001b[1;32mpandas\\\\_libs\\\\hashtable_class_helper.pxi:7081\u001b[0m, in \u001b[0;36mpandas._libs.hashtable.PyObjectHashTable.get_item\u001b[1;34m()\u001b[0m\n",
      "File \u001b[1;32mpandas\\\\_libs\\\\hashtable_class_helper.pxi:7089\u001b[0m, in \u001b[0;36mpandas._libs.hashtable.PyObjectHashTable.get_item\u001b[1;34m()\u001b[0m\n",
      "\u001b[1;31mKeyError\u001b[0m: 0",
      "\nThe above exception was the direct cause of the following exception:\n",
      "\u001b[1;31mKeyError\u001b[0m                                  Traceback (most recent call last)",
      "Cell \u001b[1;32mIn[12], line 8\u001b[0m\n\u001b[0;32m      2\u001b[0m svm \u001b[38;5;241m=\u001b[39m SVM(\n\u001b[0;32m      3\u001b[0m     learning_rate\u001b[38;5;241m=\u001b[39m\u001b[38;5;241m0.01\u001b[39m,\n\u001b[0;32m      4\u001b[0m     n_iters\u001b[38;5;241m=\u001b[39m\u001b[38;5;241m1000\u001b[39m,\n\u001b[0;32m      5\u001b[0m )\n\u001b[0;32m      7\u001b[0m \u001b[38;5;66;03m# train the model\u001b[39;00m\n\u001b[1;32m----> 8\u001b[0m \u001b[43msvm\u001b[49m\u001b[38;5;241;43m.\u001b[39;49m\u001b[43mfit\u001b[49m\u001b[43m(\u001b[49m\u001b[43mX_train_resampled\u001b[49m\u001b[43m,\u001b[49m\u001b[43m \u001b[49m\u001b[43my_train_resampled\u001b[49m\u001b[43m)\u001b[49m\n\u001b[0;32m     10\u001b[0m \u001b[38;5;66;03m# predict the test set\u001b[39;00m\n\u001b[0;32m     11\u001b[0m y_pred \u001b[38;5;241m=\u001b[39m svm\u001b[38;5;241m.\u001b[39mpredict(X_test)\n",
      "File \u001b[1;32mc:\\Users\\bouma\\Documents\\Master\\S1\\ML\\ParkinsonML\\Models\\svm.py:20\u001b[0m, in \u001b[0;36mSVM.fit\u001b[1;34m(self, X, y)\u001b[0m\n\u001b[0;32m     18\u001b[0m \u001b[38;5;28;01mfor\u001b[39;00m _ \u001b[38;5;129;01min\u001b[39;00m \u001b[38;5;28mrange\u001b[39m(\u001b[38;5;28mself\u001b[39m\u001b[38;5;241m.\u001b[39mn_iters):\n\u001b[0;32m     19\u001b[0m     \u001b[38;5;28;01mfor\u001b[39;00m i \u001b[38;5;129;01min\u001b[39;00m \u001b[38;5;28mrange\u001b[39m(n_samples):\n\u001b[1;32m---> 20\u001b[0m         y_pred \u001b[38;5;241m=\u001b[39m np\u001b[38;5;241m.\u001b[39mdot(\u001b[43mX\u001b[49m\u001b[43m[\u001b[49m\u001b[43mi\u001b[49m\u001b[43m]\u001b[49m, \u001b[38;5;28mself\u001b[39m\u001b[38;5;241m.\u001b[39mw) \u001b[38;5;241m+\u001b[39m \u001b[38;5;28mself\u001b[39m\u001b[38;5;241m.\u001b[39mb\n\u001b[0;32m     21\u001b[0m         error \u001b[38;5;241m=\u001b[39m y[i] \u001b[38;5;241m-\u001b[39m y_pred\n\u001b[0;32m     23\u001b[0m         \u001b[38;5;66;03m# Update only if error is outside the epsilon-insensitive zone\u001b[39;00m\n",
      "File \u001b[1;32mc:\\Users\\bouma\\Documents\\Master\\S1\\ML\\ParkinsonML\\venv\\Lib\\site-packages\\pandas\\core\\frame.py:4102\u001b[0m, in \u001b[0;36mDataFrame.__getitem__\u001b[1;34m(self, key)\u001b[0m\n\u001b[0;32m   4100\u001b[0m \u001b[38;5;28;01mif\u001b[39;00m \u001b[38;5;28mself\u001b[39m\u001b[38;5;241m.\u001b[39mcolumns\u001b[38;5;241m.\u001b[39mnlevels \u001b[38;5;241m>\u001b[39m \u001b[38;5;241m1\u001b[39m:\n\u001b[0;32m   4101\u001b[0m     \u001b[38;5;28;01mreturn\u001b[39;00m \u001b[38;5;28mself\u001b[39m\u001b[38;5;241m.\u001b[39m_getitem_multilevel(key)\n\u001b[1;32m-> 4102\u001b[0m indexer \u001b[38;5;241m=\u001b[39m \u001b[38;5;28;43mself\u001b[39;49m\u001b[38;5;241;43m.\u001b[39;49m\u001b[43mcolumns\u001b[49m\u001b[38;5;241;43m.\u001b[39;49m\u001b[43mget_loc\u001b[49m\u001b[43m(\u001b[49m\u001b[43mkey\u001b[49m\u001b[43m)\u001b[49m\n\u001b[0;32m   4103\u001b[0m \u001b[38;5;28;01mif\u001b[39;00m is_integer(indexer):\n\u001b[0;32m   4104\u001b[0m     indexer \u001b[38;5;241m=\u001b[39m [indexer]\n",
      "File \u001b[1;32mc:\\Users\\bouma\\Documents\\Master\\S1\\ML\\ParkinsonML\\venv\\Lib\\site-packages\\pandas\\core\\indexes\\base.py:3812\u001b[0m, in \u001b[0;36mIndex.get_loc\u001b[1;34m(self, key)\u001b[0m\n\u001b[0;32m   3807\u001b[0m     \u001b[38;5;28;01mif\u001b[39;00m \u001b[38;5;28misinstance\u001b[39m(casted_key, \u001b[38;5;28mslice\u001b[39m) \u001b[38;5;129;01mor\u001b[39;00m (\n\u001b[0;32m   3808\u001b[0m         \u001b[38;5;28misinstance\u001b[39m(casted_key, abc\u001b[38;5;241m.\u001b[39mIterable)\n\u001b[0;32m   3809\u001b[0m         \u001b[38;5;129;01mand\u001b[39;00m \u001b[38;5;28many\u001b[39m(\u001b[38;5;28misinstance\u001b[39m(x, \u001b[38;5;28mslice\u001b[39m) \u001b[38;5;28;01mfor\u001b[39;00m x \u001b[38;5;129;01min\u001b[39;00m casted_key)\n\u001b[0;32m   3810\u001b[0m     ):\n\u001b[0;32m   3811\u001b[0m         \u001b[38;5;28;01mraise\u001b[39;00m InvalidIndexError(key)\n\u001b[1;32m-> 3812\u001b[0m     \u001b[38;5;28;01mraise\u001b[39;00m \u001b[38;5;167;01mKeyError\u001b[39;00m(key) \u001b[38;5;28;01mfrom\u001b[39;00m \u001b[38;5;21;01merr\u001b[39;00m\n\u001b[0;32m   3813\u001b[0m \u001b[38;5;28;01mexcept\u001b[39;00m \u001b[38;5;167;01mTypeError\u001b[39;00m:\n\u001b[0;32m   3814\u001b[0m     \u001b[38;5;66;03m# If we have a listlike key, _check_indexing_error will raise\u001b[39;00m\n\u001b[0;32m   3815\u001b[0m     \u001b[38;5;66;03m#  InvalidIndexError. Otherwise we fall through and re-raise\u001b[39;00m\n\u001b[0;32m   3816\u001b[0m     \u001b[38;5;66;03m#  the TypeError.\u001b[39;00m\n\u001b[0;32m   3817\u001b[0m     \u001b[38;5;28mself\u001b[39m\u001b[38;5;241m.\u001b[39m_check_indexing_error(key)\n",
      "\u001b[1;31mKeyError\u001b[0m: 0"
     ]
    }
   ],
   "source": [
    "# train using the custom SVM model \n",
    "svm = SVM(\n",
    "    learning_rate=0.01,\n",
    "    n_iters=1000,\n",
    ")\n",
    "\n",
    "# train the model\n",
    "svm.fit(X_train_resampled, y_train_resampled)\n",
    "\n",
    "# predict the test set\n",
    "y_pred = svm.predict(X_test)\n",
    "\n",
    "# Evaluation Metrics\n",
    "print(\"\\nClassification Report:\")\n",
    "AllFeatures_SVM_report = classification_report(y_test, y_pred)\n",
    "print(AllFeatures_SVM_report)\n",
    "\n",
    "# ROC AUC Score\n",
    "if len(set(y_test)) == 2:  # Check if binary classification for ROC AUC\n",
    "    y_prob = svm.predict_proba(X_test)  # Use probabilities for ROC AUC calculation\n",
    "    roc_auc = roc_auc_score(y_test, y_prob)\n",
    "    print(f\"\\nROC AUC Score: {roc_auc}\")\n",
    "    \n",
    "else:\n",
    "    print(\"\\nROC AUC Score: Not applicable for multi-class classification\")\n",
    "    \n",
    "# Confusion Matrix\n",
    "cm = confusion_matrix(y_test, y_pred)\n",
    "plt.figure(figsize=(8, 6))\n",
    "sns.heatmap(cm, annot=True, fmt='d', cmap='Blues')\n",
    "plt.title('Confusion Matrix')\n",
    "plt.xlabel('Predicted Label')\n",
    "plt.ylabel('True Label')\n",
    "plt.tight_layout()\n",
    "plt.show()\n"
   ]
  },
  {
   "cell_type": "markdown",
   "metadata": {},
   "source": [
    "## 2.2 Method 2: Feature Selection  \n",
    "Features are selected using three techniques: Wrapper, Embedding, and ANOVA. The union of selected features is used for model training.  \n",
    "\n",
    "### Sub-methods:  \n",
    "1. **Wrapper Method**: Backward elimination.  \n",
    "2. **Embedding Method**: LassoCV.  \n",
    "3. **ANOVA**: Statistical test for feature importance.  \n",
    "\n",
    "### Evaluation Metrics:  \n",
    "- Accuracy, Precision, Recall, F1-Score, ROC-AUC.\n"
   ]
  },
  {
   "cell_type": "code",
   "execution_count": null,
   "metadata": {},
   "outputs": [
    {
     "name": "stdout",
     "output_type": "stream",
     "text": [
      "\n",
      "Selected Features: ['std_6th_delta_delta_mean', 'mean_10th_delta_std', 'apq5Shimmer_mean', 'tqwt_meanValue_dec_25_std', 'IMF_SNR_entropy_mean', 'locDbShimmer_std', 'tqwt_entropy_shannon_dec_11_mean', 'mean_2nd_delta_mean', 'tqwt_minValue_dec_11_mean', 'mean_MFCC_2nd_coef_mean', 'tqwt_minValue_dec_13_mean', 'rapJitter_std', 'std_7th_delta_delta_mean', 'tqwt_maxValue_dec_13_mean', 'tqwt_medianValue_dec_31_std', 'std_delta_delta_log_energy_mean', 'tqwt_kurtosisValue_dec_21_mean', 'tqwt_kurtosisValue_dec_21_std', 'tqwt_medianValue_dec_22_std', 'apq3Shimmer_mean', 'tqwt_entropy_log_dec_35_std', 'tqwt_minValue_dec_10_mean', 'ppq5Jitter_mean', 'tqwt_kurtosisValue_dec_23_mean', 'ddpJitter_mean', 'locAbsJitter_mean', 'tqwt_skewnessValue_dec_35_mean', 'tqwt_kurtosisValue_dec_22_mean', 'tqwt_TKEO_std_dec_11_mean', 'tqwt_medianValue_dec_12_std', 'tqwt_kurtosisValue_dec_36_mean', 'tqwt_kurtosisValue_dec_18_mean', 'tqwt_skewnessValue_dec_17_std', 'apq3Shimmer_std', 'tqwt_kurtosisValue_dec_34_mean', 'PPE_mean', 'mean_9th_delta_delta_std', 'tqwt_skewnessValue_dec_30_std', 'ppq5Jitter_std', 'tqwt_minValue_dec_12_mean', 'tqwt_kurtosisValue_dec_23_std', 'std_8th_delta_delta_mean', 'tqwt_medianValue_dec_1_std', 'locDbShimmer_mean', 'tqwt_entropy_log_dec_12_mean', 'tqwt_maxValue_dec_11_mean', 'locShimmer_mean', 'mean_MFCC_6th_coef_mean', 'tqwt_stdValue_dec_19_std', 'std_MFCC_3rd_coef_std', 'tqwt_stdValue_dec_11_mean', 'tqwt_kurtosisValue_dec_26_mean', 'rapJitter_mean', 'std_10th_delta_delta_std', 'locShimmer_std', 'tqwt_maxValue_dec_12_mean', 'f3_std', 'tqwt_kurtosisValue_dec_27_mean', 'tqwt_entropy_log_dec_36_std', 'apq5Shimmer_std', 'tqwt_TKEO_mean_dec_21_mean', 'tqwt_kurtosisValue_dec_22_std', 'locAbsJitter_std', 'tqwt_stdValue_dec_12_mean', 'ddpJitter_std']\n"
     ]
    }
   ],
   "source": [
    "from SelectionType.EFSA.main import FeatureSelector\n",
    "\n",
    "# Initialize the Feature Selector\n",
    "selector = FeatureSelector(X_train, y_train)\n",
    "\n",
    "selected_features = selector.comprehensive_feature_selection(k_features=70) # Perform feature selection based on anova embedding and wrapper methods\n",
    "\n",
    "\n",
    "print(f\"\\nSelected Features: {selected_features}\")"
   ]
  },
  {
   "cell_type": "code",
   "execution_count": null,
   "metadata": {},
   "outputs": [
    {
     "name": "stdout",
     "output_type": "stream",
     "text": [
      "\n",
      "Classification Report:\n",
      "              precision    recall  f1-score   support\n",
      "\n",
      "           0       0.38      0.46      0.41        13\n",
      "           1       0.80      0.74      0.77        38\n",
      "\n",
      "    accuracy                           0.67        51\n",
      "   macro avg       0.59      0.60      0.59        51\n",
      "weighted avg       0.69      0.67      0.68        51\n",
      "\n",
      "\n",
      "ROC AUC Score: 0.7327935222672065\n"
     ]
    },
    {
     "data": {
      "image/png": "[encoded data removed]",
      "text/plain": [
       "<Figure size 800x600 with 2 Axes>"
      ]
     },
     "metadata": {},
     "output_type": "display_data"
    }
   ],
   "source": [
    "# train the SVC model using the selected features\n",
    "\n",
    "svc_classifier = SVC(\n",
    "    random_state=42, \n",
    "    probability=True  # Enables probability estimates for ROC AUC score\n",
    ")\n",
    "\n",
    "svc_classifier.fit(X_train_resampled[selected_features], y_train_resampled)\n",
    "\n",
    "# Predictions\n",
    "y_pred = svc_classifier.predict(X_test[selected_features])\n",
    "\n",
    "# Evaluation Metrics\n",
    "print(\"\\nClassification Report:\")\n",
    "SelectedFeatures_SVC_report = classification_report(y_test, y_pred)\n",
    "print(SelectedFeatures_SVC_report)\n",
    "\n",
    "\n",
    "# ROC AUC Score\n",
    "if len(set(y_test)) == 2:  # Check if binary classification for ROC AUC\n",
    "    y_prob = svc_classifier.predict_proba(X_test[selected_features])[:, 1]  # Use probabilities for ROC AUC calculation\n",
    "    roc_auc = roc_auc_score(y_test, y_prob)\n",
    "    print(f\"\\nROC AUC Score: {roc_auc}\")\n",
    "    \n",
    "else:\n",
    "    print(\"\\nROC AUC Score: Not applicable for multi-class classification\")\n",
    "\n",
    "# Confusion Matrix\n",
    "cm = confusion_matrix(y_test, y_pred)\n",
    "plt.figure(figsize=(8, 6))\n",
    "sns.heatmap(cm, annot=True, fmt='d', cmap='Blues')\n",
    "plt.title('Confusion Matrix')\n",
    "plt.xlabel('Predicted Label')\n",
    "plt.ylabel('True Label')\n",
    "plt.tight_layout()\n",
    "plt.show()\n"
   ]
  },
  {
   "cell_type": "markdown",
   "metadata": {},
   "source": [
    "## 2.3 Method 3: Dimensionality Reduction  \n",
    "Principal Component Analysis (PCA) is used to reduce the dataset's dimensionality before applying the **SVM**.   \n",
    "\n",
    "### Evaluation Metrics:  \n",
    "- Accuracy, Precision, Recall, F1-Score, ROC-AUC.\n"
   ]
  },
  {
   "cell_type": "code",
   "execution_count": null,
   "metadata": {},
   "outputs": [],
   "source": []
  },
  {
   "cell_type": "markdown",
   "metadata": {},
   "source": [
    "## 3. Comparative Analysis  \n",
    "- **Objective**: Compare the performance of the **SVM** across:  \n",
    "  1. All Features.  \n",
    "  2. Feature Selection.  \n",
    "  3. PCA.  \n",
    "- **Comparison Metrics**:  \n",
    "  - Performance (Accuracy, Precision, Recall, F1-Score, ROC-AUC).  \n",
    "  - Computational efficiency (Training and Testing Time).  \n",
    "- Present results as tables and visualizations (e.g., bar plots, ROC curves).  \n"
   ]
  },
  {
   "cell_type": "code",
   "execution_count": null,
   "metadata": {},
   "outputs": [],
   "source": []
  }
 ],
 "metadata": {
  "kernelspec": {
   "display_name": "venv",
   "language": "python",
   "name": "python3"
  },
  "language_info": {
   "codemirror_mode": {
    "name": "ipython",
    "version": 3
   },
   "file_extension": ".py",
   "mimetype": "text/x-python",
   "name": "python",
   "nbconvert_exporter": "python",
   "pygments_lexer": "ipython3",
   "version": "3.12.2"
  }
 },
 "nbformat": 4,
 "nbformat_minor": 4
}
